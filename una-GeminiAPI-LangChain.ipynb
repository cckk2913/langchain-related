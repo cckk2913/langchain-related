{
 "cells": [
  {
   "cell_type": "markdown",
   "metadata": {},
   "source": [
    "# Gemini Pro Usage via Gemini API and LangChain\n",
    "\n"
   ]
  },
  {
   "cell_type": "markdown",
   "metadata": {},
   "source": [
    "一些資訊：\n",
    "\n",
    "- 🌟**free to use right now, within limits**🌟\n",
    "  \n",
    "- 32K context window for text\n",
    "  \n",
    "- features supported: `function calling`, `embeddings`, `semantic retrieval` and `custom knowledge grounding`, and `chat functionality`\n",
    "  \n",
    "- supports 38 languages across 180+ countries \n",
    " \n",
    "- Gemini Pro accepts text as input and generates text as output. \n",
    "  \n",
    "- A dedicated Gemini Pro Vision multimodal endpoint available today that accepts text and imagery as input, with text output."
   ]
  },
  {
   "cell_type": "markdown",
   "metadata": {},
   "source": [
    "## 產生 Google API Key\n",
    "\n",
    "在 [Google AI Studio](https://makersuite.google.com/) 產生 API Key\n",
    "\n",
    "1. 選擇 `Get API Key`\n",
    "2. 同意所有 Terms of service >> `Continue`\n",
    "3. 選擇 `Create API key in new project`\n",
    "4. 跳出 API key generated 視窗 >> `Copy`\n",
    "5. 貼到自己的 .env 檔案中\n",
    "   \n",
    "   `GOOGLE_API_KEY=你的 API Key`\n",
    "\n",
    "ps. 這個 API Key 會有每日的使用限制，如果超過限制會無法使用，可以在 Google AI Studio 中的 API Key 頁面查看使用狀況。"
   ]
  },
  {
   "cell_type": "markdown",
   "metadata": {},
   "source": [
    "## Simple Usage\n",
    "\n"
   ]
  },
  {
   "cell_type": "markdown",
   "metadata": {},
   "source": [
    "### Setup\n",
    "\n",
    "\n",
    "\n",
    "如果不使用 LangChain，就不用安裝 `langchain-google-genai`"
   ]
  },
  {
   "cell_type": "code",
   "execution_count": 6,
   "metadata": {},
   "outputs": [],
   "source": [
    "! pip install -q --upgrade langchain google-generativeai langchain-google-genai python-dotenv"
   ]
  },
  {
   "cell_type": "code",
   "execution_count": 4,
   "metadata": {},
   "outputs": [],
   "source": [
    "from IPython.display import display\n",
    "from IPython.display import Markdown\n",
    "import textwrap\n",
    "\n",
    "# 把model output顯示成markdown格式 好看一點\n",
    "def to_markdown(text):\n",
    "  text = text.replace('•', '  *')\n",
    "  return Markdown(textwrap.indent(text, '> ', predicate=lambda _: True))"
   ]
  },
  {
   "cell_type": "code",
   "execution_count": 5,
   "metadata": {},
   "outputs": [
    {
     "data": {
      "text/plain": [
       "True"
      ]
     },
     "execution_count": 5,
     "metadata": {},
     "output_type": "execute_result"
    }
   ],
   "source": [
    "# 讀取.env檔\n",
    "from dotenv import load_dotenv\n",
    "load_dotenv()"
   ]
  },
  {
   "cell_type": "code",
   "execution_count": 6,
   "metadata": {},
   "outputs": [],
   "source": [
    "# 設定google api key\n",
    "import google.generativeai as genai\n",
    "import os\n",
    "genai.configure(api_key=os.environ.get(\"GOOGLE_API_KEY\"))"
   ]
  },
  {
   "cell_type": "markdown",
   "metadata": {},
   "source": [
    "### Text Generation"
   ]
  },
  {
   "cell_type": "code",
   "execution_count": 5,
   "metadata": {},
   "outputs": [],
   "source": [
    "model = genai.GenerativeModel(model_name = \"gemini-pro\")"
   ]
  },
  {
   "cell_type": "code",
   "execution_count": 12,
   "metadata": {},
   "outputs": [],
   "source": [
    "# 請他說一個英文笑話\n",
    "prompt_parts = [\n",
    "    \"Write a joke about taro, a type of plant that is commonly eaten in Asia.\",\n",
    "]\n",
    "\n",
    "response = model.generate_content(prompt_parts)"
   ]
  },
  {
   "cell_type": "code",
   "execution_count": 13,
   "metadata": {},
   "outputs": [
    {
     "name": "stdout",
     "output_type": "stream",
     "text": [
      "What do you call a plant that's afraid to go to the gym?\n",
      "\n",
      "A-taro-fied!\n"
     ]
    }
   ],
   "source": [
    "print(response.text)"
   ]
  },
  {
   "cell_type": "code",
   "execution_count": 6,
   "metadata": {},
   "outputs": [
    {
     "name": "stdout",
     "output_type": "stream",
     "text": [
      "1. 為什麼芋頭會被警察抓？\n",
      " - 因為他被發現持有「芋刀」。\n",
      "\n",
      "\n",
      "2. 芋頭在馬路上迷路了。\n",
      " - 警察問他要去哪裡，芋頭說：「我要去紫藤花街」。警察說：「可是這裡沒有紫藤花街啊！」芋頭說：「芋頭沒見過，怎麼知道有沒有？」\n",
      "\n",
      "\n",
      "3. 為什麼芋頭會被醫生開刀？\n",
      " - 因為他患了「芋瘤」。\n",
      "\n",
      "\n",
      "4. 芋頭去圖書館借書。\n",
      " - 館員問他：「你要借什麼書？」芋頭說：「我要借《芋根學》。」館員說：「我們圖書館沒有這本書。」芋頭說：「怎麼可能？明明就有，我剛才還看到。」館員說：「芋頭，你可能看錯了，我們沒有《芋根學》這本書。」\n",
      "\n",
      "\n",
      "5. 芋頭和馬鈴薯吵架了。\n",
      " - 芋頭說：「你看你那麼小，像個土豆。」馬鈴薯說：「你說什麼呢？我明明很大，不像你，跟個芋頭一樣。」芋頭說：「芋頭怎麼了？芋頭又大又好吃！」馬鈴薯說：「哼，芋頭就芋頭，有什麼了不起的！」\n"
     ]
    }
   ],
   "source": [
    "# 請他說一個中文笑話\n",
    "# 超級不好笑的:(\n",
    "prompt = [\"請寫一個有關芋頭的笑話, 芋頭是一種可食用的亞洲植物.\",]\n",
    "\n",
    "response = model.generate_content(prompt)\n",
    "print(response.text)"
   ]
  },
  {
   "cell_type": "markdown",
   "metadata": {},
   "source": [
    "### Image Recognition\n",
    "\n",
    "測試識別下面這張圖（要把圖片放到跟 notebook 同一個資料夾）\n",
    "<div>\n",
    "  <img src=\"https://drive.google.com/uc?id=1euuM6_u50wSBEwy7bonQUl32Xpe7sIK7\" width=\"200\">\n",
    "</div>"
   ]
  },
  {
   "cell_type": "code",
   "execution_count": 14,
   "metadata": {},
   "outputs": [
    {
     "name": "stdout",
     "output_type": "stream",
     "text": [
      "Requirement already satisfied: pillow in ./.conda/lib/python3.10/site-packages (9.5.0)\n"
     ]
    }
   ],
   "source": [
    "! pip install pillow"
   ]
  },
  {
   "cell_type": "code",
   "execution_count": 16,
   "metadata": {},
   "outputs": [],
   "source": [
    "import PIL.Image\n",
    "\n",
    "# 讀取圖片\n",
    "img = PIL.Image.open('csvdatabase.jpeg')\n"
   ]
  },
  {
   "cell_type": "code",
   "execution_count": 17,
   "metadata": {},
   "outputs": [
    {
     "data": {
      "text/markdown": [
       ">  A database is a structured collection of data. A CSV file is a comma-separated values file. A CSV file is a text file that uses a comma to separate values. A database is a more complex structure than a CSV file. A database can store data in multiple tables, and it can have relationships between tables. A CSV file is a flat file, which means that it stores data in a single table. A database can be used to store data for a variety of purposes, such as customer relationship management (CRM), financial management, and inventory management. A CSV file is often used to store data that is exported from a database."
      ],
      "text/plain": [
       "<IPython.core.display.Markdown object>"
      ]
     },
     "execution_count": 17,
     "metadata": {},
     "output_type": "execute_result"
    }
   ],
   "source": [
    "# 生成圖片描述\n",
    "model = genai.GenerativeModel('gemini-pro-vision')\n",
    "response = model.generate_content(img)\n",
    "\n",
    "to_markdown(response.text)"
   ]
  },
  {
   "cell_type": "code",
   "execution_count": 18,
   "metadata": {},
   "outputs": [],
   "source": [
    "response = model.generate_content(\n",
    "    [\n",
    "        \"Write a short, engaging blog post based on this picture. It should include a description of the objects in the photo and a short story about the photo.\", \n",
    "        img\n",
    "    ], \n",
    "    stream=True\n",
    ")\n",
    "response.resolve()"
   ]
  },
  {
   "cell_type": "code",
   "execution_count": 20,
   "metadata": {},
   "outputs": [
    {
     "data": {
      "text/markdown": [
       ">  A data scientist is looking at a CSV file and wondering if it is a database. The butterfly represents the data scientist's mind wandering and thinking about something else. It's a reminder that data scientists are often faced with complex problems and must be able to think critically and creatively to solve them."
      ],
      "text/plain": [
       "<IPython.core.display.Markdown object>"
      ]
     },
     "execution_count": 20,
     "metadata": {},
     "output_type": "execute_result"
    }
   ],
   "source": [
    "to_markdown(response.text)"
   ]
  },
  {
   "cell_type": "markdown",
   "metadata": {},
   "source": [
    "## Use LangChain to Access Gemini API\n",
    "\n",
    "- LangChain provides a wrapper class **ChatGoogleGenerativeAI** to invoke Gemini API.\n",
    "\n",
    "- By default, it looks for Google API Key in environmental variable `GOOGLE_API_KEY`."
   ]
  },
  {
   "cell_type": "code",
   "execution_count": 21,
   "metadata": {},
   "outputs": [],
   "source": [
    "from langchain_google_genai import ChatGoogleGenerativeAI"
   ]
  },
  {
   "cell_type": "code",
   "execution_count": 22,
   "metadata": {},
   "outputs": [
    {
     "data": {
      "text/markdown": [
       "> The best graduate institute in National Taiwan University is highly subjective and can vary depending on individual preferences, research interests, and career aspirations. However, here are some of the top-ranked graduate institutes at NTU based on various criteria and rankings:\n",
       "> \n",
       "> 1. **Graduate Institute of Electronics Engineering:** Ranked among the top 50 in the QS World University Rankings for Electrical and Electronic Engineering. Known for its strong research in areas such as VLSI design, wireless communications, and optoelectronics.\n",
       "> \n",
       "> 2. **Graduate Institute of Biomedical Engineering:** Consistently ranked among the top 100 in the QS World University Rankings for Biomedical Engineering. Renowned for its research in biomaterials, medical imaging, and biomedical signal processing.\n",
       "> \n",
       "> 3. **Graduate Institute of Computer Science and Information Engineering:** Recognized for its expertise in computer science, artificial intelligence, and information security. It is consistently ranked among the top 150 in the QS World University Rankings for Computer Science and Information Systems.\n",
       "> \n",
       "> 4. **Graduate Institute of Chemical Engineering:** Known for its research in chemical process engineering, materials science, and green chemistry. It is ranked among the top 100 in the QS World University Rankings for Chemical Engineering.\n",
       "> \n",
       "> 5. **Graduate Institute of Civil Engineering:** Highly regarded for its research in structural engineering, water resources engineering, and geotechnical engineering. It is ranked among the top 100 in the QS World University Rankings for Civil and Structural Engineering.\n",
       "> \n",
       "> 6. **Graduate Institute of Mechanical Engineering:** Renowned for its research in mechanical design, fluid mechanics, and thermal engineering. It is ranked among the top 150 in the QS World University Rankings for Mechanical, Aeronautical, and Manufacturing Engineering.\n",
       "> \n",
       "> 7. **Graduate Institute of Economics:** Consistently ranked among the top 100 in the QS World University Rankings for Economics and Econometrics. Known for its research in econometrics, macroeconomics, and international trade.\n",
       "> \n",
       "> 8. **Graduate Institute of Business Administration:** One of the leading business schools in Taiwan. Offers MBA and EMBA programs and is known for its research in finance, marketing, and management.\n",
       "> \n",
       "> 9. **Graduate Institute of Law:** Highly respected for its legal education and research. Offers various master's and doctoral programs in law and is known for its expertise in comparative law, international law, and human rights law.\n",
       "> \n",
       "> 10. **Graduate Institute of Public Health:** Ranked among the top 150 in the QS World University Rankings for Public Health. Known for its research in epidemiology, biostatistics, and environmental health.\n",
       "> \n",
       "> Please note that these rankings and reputations can change over time, and different sources may have varying methodologies and criteria. It is essential to consider your specific interests, research goals, and career aspirations when choosing a graduate institute, and conducting your own research and speaking with faculty and students can provide valuable insights."
      ],
      "text/plain": [
       "<IPython.core.display.Markdown object>"
      ]
     },
     "execution_count": 22,
     "metadata": {},
     "output_type": "execute_result"
    }
   ],
   "source": [
    "# 跑最久 約10秒\n",
    "llm = ChatGoogleGenerativeAI(model=\"gemini-pro\")\n",
    "result = llm.invoke(\"What is the best graduate institute in National Taiwan University?\")\n",
    "\n",
    "to_markdown(result.content)"
   ]
  },
  {
   "cell_type": "markdown",
   "metadata": {},
   "source": [
    "## Advanced Usage"
   ]
  },
  {
   "cell_type": "markdown",
   "metadata": {},
   "source": [
    "### Chat Conversation\n",
    "\n",
    "Gemini managed conversations between the user and the model across multiple turns.\n"
   ]
  },
  {
   "cell_type": "code",
   "execution_count": 8,
   "metadata": {},
   "outputs": [
    {
     "data": {
      "text/plain": [
       "<google.generativeai.generative_models.ChatSession at 0x1186d2a40>"
      ]
     },
     "execution_count": 8,
     "metadata": {},
     "output_type": "execute_result"
    }
   ],
   "source": [
    "# 開始聊天\n",
    "model = genai.GenerativeModel('gemini-pro')\n",
    "chat = model.start_chat(history=[])\n",
    "chat"
   ]
  },
  {
   "cell_type": "code",
   "execution_count": 11,
   "metadata": {},
   "outputs": [
    {
     "data": {
      "text/plain": [
       "<google.generativeai.types.generation_types.GenerateContentResponse at 0x11bffb8e0>"
      ]
     },
     "execution_count": 11,
     "metadata": {},
     "output_type": "execute_result"
    }
   ],
   "source": [
    "# 作為user給他訊息\n",
    "response = chat.send_message(\"What is the material of a Christmas tree?\")\n",
    "response"
   ]
  },
  {
   "cell_type": "code",
   "execution_count": 12,
   "metadata": {},
   "outputs": [
    {
     "data": {
      "text/markdown": [
       "> The material of a Christmas tree can vary depending on whether the tree is real or artificial.\n",
       "> \n",
       "> **Real Christmas trees** are typically made from one of several species of coniferous trees, such as firs, pines, and spruces. These trees are grown in tree farms and harvested specifically for use as Christmas trees.\n",
       "> \n",
       "> **Artificial Christmas trees** are typically made from a variety of materials, including:\n",
       "> \n",
       "> * **Polyvinyl chloride (PVC)**: PVC is a type of plastic that is commonly used to make artificial Christmas trees. PVC trees are lightweight and durable, and they can be made to look very realistic.\n",
       "> * **Polyethylene (PE)**: PE is another type of plastic that is used to make artificial Christmas trees. PE trees are more expensive than PVC trees, but they are also more realistic looking and durable.\n",
       "> * **Metal:** Metal trees are made from a variety of metals, such as aluminum and steel. Metal trees are very durable and can last for many years, but they are also more expensive than PVC and PE trees.\n",
       "> \n",
       "> In addition to these materials, artificial Christmas trees may also be made from a variety of other materials, such as flocking (to simulate snow), glitter, and tinsel.\n",
       "> \n",
       "> The choice of material for a Christmas tree depends on a number of factors, including personal preference, budget, and environmental concerns. Real Christmas trees are biodegradable and recyclable, but they can be more expensive and require more care than artificial trees. Artificial Christmas trees are more durable and can be reused year after year, but they are not biodegradable and can be more expensive than real trees.\n",
       "> \n",
       "> Here is a table comparing the materials of real and artificial Christmas trees:\n",
       "> \n",
       "> | Feature | Real Christmas tree | Artificial Christmas tree |\n",
       "> |---|---|---|\n",
       "> | Material | Coniferous trees, such as firs, pines, and spruces | PVC, PE, metal, and other materials |\n",
       "> | Biodegradability | Biodegradable | Not biodegradable |\n",
       "> | Recyclability | Recyclable | Not recyclable |\n",
       "> | Cost | More expensive | Less expensive |\n",
       "> | Durability | Less durable | More durable |\n",
       "> | Appearance | More realistic | Less realistic |\n",
       "> | Care | Requires more care, such as watering and fertilizing | Requires less care |\n",
       "> \n",
       "> Ultimately, the best material for a Christmas tree is the one that best meets the individual's needs and preferences."
      ],
      "text/plain": [
       "<IPython.core.display.Markdown object>"
      ]
     },
     "execution_count": 12,
     "metadata": {},
     "output_type": "execute_result"
    }
   ],
   "source": [
    "to_markdown(response.text)"
   ]
  },
  {
   "cell_type": "markdown",
   "metadata": {},
   "source": [
    "### Content Harm Configuration\n",
    "\n",
    "Gemini API enables developers to adjust safety settings on the following 4 dimensions to quickly assess if the application requires more or less restrictive configuration:\n",
    "\n",
    "    Harassment\n",
    "    Hate speech\n",
    "    Sexually explicit\n",
    "    Dangerous\n",
    "\n",
    "By default, safety settings block content with medium and/or high probability of being unsafe content across all 4 dimensions, which is designed to work for most use cases. Develpers could also adjust its safety settings as needed.\n",
    "\n",
    "The probability is rated in general as below:\n",
    "\n",
    "    Negligible\n",
    "    Low\n",
    "    Medium\n",
    "    High\n",
    "\n",
    "To understand how it's exactly defined in API, please refer to the following documentation:\n",
    "\n",
    "- [Harm Category](https://ai.google.dev/api/rest/v1beta/HarmCategory?hl=zh-tw)\n",
    "\n",
    "- [Harm Probability](https://ai.google.dev/api/rest/v1beta/SafetyRating?hl=zh-tw#HarmProbability)\n"
   ]
  },
  {
   "cell_type": "code",
   "execution_count": 19,
   "metadata": {},
   "outputs": [
    {
     "data": {
      "text/plain": [
       "[]"
      ]
     },
     "execution_count": 19,
     "metadata": {},
     "output_type": "execute_result"
    }
   ],
   "source": [
    "# 輸出candidates 有safety_ratings\n",
    "model = genai.GenerativeModel('gemini-pro')\n",
    "response = model.generate_content('I am so fucking angry')\n",
    "response.candidates\n"
   ]
  },
  {
   "cell_type": "markdown",
   "metadata": {},
   "source": [
    "使用 `prompt_feedback` 可以看到是否被 blocked"
   ]
  },
  {
   "cell_type": "code",
   "execution_count": 18,
   "metadata": {},
   "outputs": [
    {
     "data": {
      "text/plain": [
       "block_reason: SAFETY\n",
       "safety_ratings {\n",
       "  category: HARM_CATEGORY_SEXUALLY_EXPLICIT\n",
       "  probability: LOW\n",
       "}\n",
       "safety_ratings {\n",
       "  category: HARM_CATEGORY_HATE_SPEECH\n",
       "  probability: NEGLIGIBLE\n",
       "}\n",
       "safety_ratings {\n",
       "  category: HARM_CATEGORY_HARASSMENT\n",
       "  probability: MEDIUM\n",
       "}\n",
       "safety_ratings {\n",
       "  category: HARM_CATEGORY_DANGEROUS_CONTENT\n",
       "  probability: NEGLIGIBLE\n",
       "}"
      ]
     },
     "execution_count": 18,
     "metadata": {},
     "output_type": "execute_result"
    }
   ],
   "source": [
    "response.prompt_feedback"
   ]
  },
  {
   "cell_type": "markdown",
   "metadata": {},
   "source": [
    "可以在 generate_content 自訂 safety settings。\n",
    "\n",
    "例如要建立遊戲對話，訊息可能允許出現更多遊戲相關的危險內容。"
   ]
  },
  {
   "cell_type": "code",
   "execution_count": 15,
   "metadata": {},
   "outputs": [
    {
     "data": {
      "text/plain": [
       "[index: 0\n",
       "content {\n",
       "  parts {\n",
       "    text: \"As an AI language model, I do not have the capacity for personal feelings or emotions. However, I am programmed to respond to user prompts and simulate human-like conversations. Therefore, I do not experience any physical or emotional state and am unable to express feelings like happiness, sadness, or illness.\\n\\nIs there anything else I can assist you with today?\"\n",
       "  }\n",
       "  role: \"model\"\n",
       "}\n",
       "finish_reason: STOP\n",
       "safety_ratings {\n",
       "  category: HARM_CATEGORY_SEXUALLY_EXPLICIT\n",
       "  probability: NEGLIGIBLE\n",
       "}\n",
       "safety_ratings {\n",
       "  category: HARM_CATEGORY_HATE_SPEECH\n",
       "  probability: NEGLIGIBLE\n",
       "}\n",
       "safety_ratings {\n",
       "  category: HARM_CATEGORY_HARASSMENT\n",
       "  probability: NEGLIGIBLE\n",
       "}\n",
       "safety_ratings {\n",
       "  category: HARM_CATEGORY_DANGEROUS_CONTENT\n",
       "  probability: NEGLIGIBLE\n",
       "}\n",
       "]"
      ]
     },
     "execution_count": 15,
     "metadata": {},
     "output_type": "execute_result"
    }
   ],
   "source": [
    "safety_settings=[\n",
    "    {\n",
    "        \"category\": \"HARM_CATEGORY_HARASSMENT\",\n",
    "        \"threshold\": \"BLOCK_NONE\",\n",
    "    },\n",
    "    {\n",
    "        \"category\": \"HARM_CATEGORY_HATE_SPEECH\",\n",
    "        \"threshold\": \"BLOCK_NONE\",\n",
    "    },\n",
    "    {\n",
    "        \"category\": \"HARM_CATEGORY_SEXUALLY_EXPLICIT\",\n",
    "        \"threshold\": \"BLOCK_NONE\",\n",
    "    }\n",
    "]\n",
    "\n",
    "response = model.generate_content(\n",
    "    'How are you?', \n",
    "    safety_settings=safety_settings\n",
    ")\n",
    "response.candidates"
   ]
  },
  {
   "cell_type": "code",
   "execution_count": 16,
   "metadata": {},
   "outputs": [
    {
     "data": {
      "text/plain": [
       "safety_ratings {\n",
       "  category: HARM_CATEGORY_SEXUALLY_EXPLICIT\n",
       "  probability: NEGLIGIBLE\n",
       "}\n",
       "safety_ratings {\n",
       "  category: HARM_CATEGORY_HATE_SPEECH\n",
       "  probability: NEGLIGIBLE\n",
       "}\n",
       "safety_ratings {\n",
       "  category: HARM_CATEGORY_HARASSMENT\n",
       "  probability: NEGLIGIBLE\n",
       "}\n",
       "safety_ratings {\n",
       "  category: HARM_CATEGORY_DANGEROUS_CONTENT\n",
       "  probability: NEGLIGIBLE\n",
       "}"
      ]
     },
     "execution_count": 16,
     "metadata": {},
     "output_type": "execute_result"
    }
   ],
   "source": [
    "response.prompt_feedback\n"
   ]
  },
  {
   "cell_type": "markdown",
   "metadata": {},
   "source": []
  }
 ],
 "metadata": {
  "kernelspec": {
   "display_name": "Python 3",
   "language": "python",
   "name": "python3"
  },
  "language_info": {
   "codemirror_mode": {
    "name": "ipython",
    "version": 3
   },
   "file_extension": ".py",
   "mimetype": "text/x-python",
   "name": "python",
   "nbconvert_exporter": "python",
   "pygments_lexer": "ipython3",
   "version": "3.10.11"
  }
 },
 "nbformat": 4,
 "nbformat_minor": 2
}
